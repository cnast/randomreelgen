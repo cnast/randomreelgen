{
 "metadata": {
  "name": ""
 },
 "nbformat": 3,
 "nbformat_minor": 0,
 "worksheets": [
  {
   "cells": [
    {
     "cell_type": "code",
     "collapsed": false,
     "input": [
      "#this one generates a reel using duration by phrase\n",
      "\n",
      "import random\n",
      "import music21 as m\n",
      "from music21 import *\n",
      "\n",
      "g_scale = [\"G4\", \"A4\", \"B4\", \"C4\", \"D4\", \"E4\", \"F#4\", \"G5\"] #, \"A5\", \"B5\"] # key of G\n",
      "d_scale = [\"G4\", \"A4\", \"B4\", \"C#4\", \"D4\", \"E4\", \"F#4\", \"G5\", \"A5\", \"B5\"] # key of D\n",
      "dur_phrase = [[\"half\"], [\"quarter\", \"quarter\"], [\"quarter\", \"eighth\", \"eighth\"]] #, [\"eighth\", \"eighth\", \"quarter\"]] \n",
      "\n",
      "# create a new stream\n",
      "s = m.stream.Stream()\n",
      "\n",
      "# set a time signature and add it to the stream\n",
      "tsFourFour = meter.TimeSignature('4/4')\n",
      "s.append(tsFourFour)\n",
      "\n",
      "#ks = key.KeySignature(1)\n",
      "#s.append(ks)\n",
      "\n",
      "k = key.Key(\"G\")\n",
      "#k = raw_input(\"What key?\")\n",
      "print k\n",
      "s.append(k)\n",
      "\n",
      "# Get a duration. \n",
      "# Add notes based on number of elements in list. \n",
      "# Append duration plus notes to stream.\n",
      "# Do this twice to get a measure.\n",
      "# Repeat for number of measures in tune.\n",
      "for i in range(8):\n",
      "    for i in range(2):\n",
      "        d1 = random.choice(dur_phrase)    \n",
      "        for j in range(len(d1)):\n",
      "            n1 = random.choice(g_scale)\n",
      "            n1 = m.note.Note(n1, type=d1[j])\n",
      "            s.append(n1)\n",
      "s.show('text')\n",
      "s.show('musicxml')\n",
      "print \"Key Signature:\", s.getContextByClass('KeySignature') #print key signature\n"
     ],
     "language": "python",
     "metadata": {},
     "outputs": [
      {
       "output_type": "stream",
       "stream": "stdout",
       "text": [
        "G major\n",
        "{0.0} <music21.meter.TimeSignature 4/4>\n",
        "{0.0} <music21.key.Key of G major>\n",
        "{0.0} <music21.note.Note C>\n",
        "{2.0} <music21.note.Note F#>\n",
        "{3.0} <music21.note.Note D>\n",
        "{4.0} <music21.note.Note E>\n",
        "{5.0} <music21.note.Note G>\n",
        "{5.5} <music21.note.Note C>\n",
        "{6.0} <music21.note.Note D>\n",
        "{7.0} <music21.note.Note G>\n",
        "{8.0} <music21.note.Note E>\n",
        "{9.0} <music21.note.Note A>\n",
        "{9.5} <music21.note.Note E>\n",
        "{10.0} <music21.note.Note D>\n",
        "{11.0} <music21.note.Note F#>\n",
        "{11.5} <music21.note.Note G>\n",
        "{12.0} <music21.note.Note C>\n",
        "{13.0} <music21.note.Note B>\n",
        "{13.5} <music21.note.Note G>\n",
        "{14.0} <music21.note.Note A>\n",
        "{15.0} <music21.note.Note F#>\n",
        "{15.5} <music21.note.Note A>\n",
        "{16.0} <music21.note.Note G>\n",
        "{17.0} <music21.note.Note F#>\n",
        "{17.5} <music21.note.Note A>\n",
        "{18.0} <music21.note.Note G>\n",
        "{19.0} <music21.note.Note E>\n",
        "{19.5} <music21.note.Note F#>\n",
        "{20.0} <music21.note.Note B>\n",
        "{21.0} <music21.note.Note D>\n",
        "{21.5} <music21.note.Note A>\n",
        "{22.0} <music21.note.Note E>\n",
        "{23.0} <music21.note.Note B>\n",
        "{24.0} <music21.note.Note A>\n",
        "{26.0} <music21.note.Note C>\n",
        "{27.0} <music21.note.Note A>\n",
        "{28.0} <music21.note.Note C>\n",
        "{29.0} <music21.note.Note C>\n",
        "{29.5} <music21.note.Note B>\n",
        "{30.0} <music21.note.Note F#>\n",
        "Key Signature:"
       ]
      },
      {
       "output_type": "stream",
       "stream": "stdout",
       "text": [
        " G major\n"
       ]
      }
     ],
     "prompt_number": 3
    },
    {
     "cell_type": "code",
     "collapsed": false,
     "input": [],
     "language": "python",
     "metadata": {},
     "outputs": []
    }
   ],
   "metadata": {}
  }
 ]
}